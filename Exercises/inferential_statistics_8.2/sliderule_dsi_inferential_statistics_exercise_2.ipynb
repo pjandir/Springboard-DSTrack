{
 "cells": [
  {
   "cell_type": "markdown",
   "metadata": {},
   "source": [
    "# Examining Racial Discrimination in the US Job Market\n",
    "\n",
    "### Background\n",
    "Racial discrimination continues to be pervasive in cultures throughout the world. Researchers examined the level of racial discrimination in the United States labor market by randomly assigning identical résumés to black-sounding or white-sounding names and observing the impact on requests for interviews from employers.\n",
    "\n",
    "### Data\n",
    "In the dataset provided, each row represents a resume. The 'race' column has two values, 'b' and 'w', indicating black-sounding and white-sounding. The column 'call' has two values, 1 and 0, indicating whether the resume received a call from employers or not.\n",
    "\n",
    "Note that the 'b' and 'w' values in race are assigned randomly to the resumes when presented to the employer."
   ]
  },
  {
   "cell_type": "markdown",
   "metadata": {},
   "source": [
    "### Exercises\n",
    "You will perform a statistical analysis to establish whether race has a significant impact on the rate of callbacks for resumes.\n",
    "\n",
    "Answer the following questions **in this notebook below and submit to your Github account**. \n",
    "\n",
    "   1. What test is appropriate for this problem? Does CLT apply?\n",
    "   2. What are the null and alternate hypotheses?\n",
    "   3. Compute margin of error, confidence interval, and p-value.\n",
    "   4. Write a story describing the statistical significance in the context or the original problem.\n",
    "   5. Does your analysis mean that race/name is the most important factor in callback success? Why or why not? If not, how would you amend your analysis?\n",
    "\n",
    "You can include written notes in notebook cells using Markdown: \n",
    "   - In the control panel at the top, choose Cell > Cell Type > Markdown\n",
    "   - Markdown syntax: http://nestacms.com/docs/creating-content/markdown-cheat-sheet\n",
    "\n",
    "\n",
    "#### Resources\n",
    "+ Experiment information and data source: http://www.povertyactionlab.org/evaluation/discrimination-job-market-united-states\n",
    "+ Scipy statistical methods: http://docs.scipy.org/doc/scipy/reference/stats.html \n",
    "+ Markdown syntax: http://nestacms.com/docs/creating-content/markdown-cheat-sheet\n",
    "****"
   ]
  },
  {
   "cell_type": "code",
   "execution_count": 1,
   "metadata": {
    "collapsed": true
   },
   "outputs": [],
   "source": [
    "import pandas as pd\n",
    "import numpy as np\n",
    "from scipy import stats\n",
    "\n",
    "#Set some global options\n",
    "pd.set_option('max_columns', 100) #Its nice to see all columns\n",
    "\n",
    "#Reproducibilty\n",
    "np.random.seed(42)"
   ]
  },
  {
   "cell_type": "code",
   "execution_count": 2,
   "metadata": {
    "collapsed": false
   },
   "outputs": [],
   "source": [
    "data = pd.io.stata.read_stata('data/us_job_market_discrimination.dta')"
   ]
  },
  {
   "cell_type": "markdown",
   "metadata": {},
   "source": [
    "----------------"
   ]
  },
  {
   "cell_type": "markdown",
   "metadata": {},
   "source": [
    "## My work and solutions"
   ]
  },
  {
   "cell_type": "markdown",
   "metadata": {},
   "source": [
    "So this excercise gives us a dataset analyzing racial discrimination in hiring in the US. As always, before diving into the questions we should take a look at the given dataset. So let's do that now."
   ]
  },
  {
   "cell_type": "code",
   "execution_count": 3,
   "metadata": {
    "collapsed": false
   },
   "outputs": [
    {
     "data": {
      "text/html": [
       "<div>\n",
       "<table border=\"1\" class=\"dataframe\">\n",
       "  <thead>\n",
       "    <tr style=\"text-align: right;\">\n",
       "      <th></th>\n",
       "      <th>id</th>\n",
       "      <th>ad</th>\n",
       "      <th>education</th>\n",
       "      <th>ofjobs</th>\n",
       "      <th>yearsexp</th>\n",
       "      <th>honors</th>\n",
       "      <th>volunteer</th>\n",
       "      <th>military</th>\n",
       "      <th>empholes</th>\n",
       "      <th>occupspecific</th>\n",
       "      <th>occupbroad</th>\n",
       "      <th>workinschool</th>\n",
       "      <th>email</th>\n",
       "      <th>computerskills</th>\n",
       "      <th>specialskills</th>\n",
       "      <th>firstname</th>\n",
       "      <th>sex</th>\n",
       "      <th>race</th>\n",
       "      <th>h</th>\n",
       "      <th>l</th>\n",
       "      <th>call</th>\n",
       "      <th>city</th>\n",
       "      <th>kind</th>\n",
       "      <th>adid</th>\n",
       "      <th>fracblack</th>\n",
       "      <th>fracwhite</th>\n",
       "      <th>lmedhhinc</th>\n",
       "      <th>fracdropout</th>\n",
       "      <th>fraccolp</th>\n",
       "      <th>linc</th>\n",
       "      <th>col</th>\n",
       "      <th>expminreq</th>\n",
       "      <th>schoolreq</th>\n",
       "      <th>eoe</th>\n",
       "      <th>parent_sales</th>\n",
       "      <th>parent_emp</th>\n",
       "      <th>branch_sales</th>\n",
       "      <th>branch_emp</th>\n",
       "      <th>fed</th>\n",
       "      <th>fracblack_empzip</th>\n",
       "      <th>fracwhite_empzip</th>\n",
       "      <th>lmedhhinc_empzip</th>\n",
       "      <th>fracdropout_empzip</th>\n",
       "      <th>fraccolp_empzip</th>\n",
       "      <th>linc_empzip</th>\n",
       "      <th>manager</th>\n",
       "      <th>supervisor</th>\n",
       "      <th>secretary</th>\n",
       "      <th>offsupport</th>\n",
       "      <th>salesrep</th>\n",
       "      <th>retailsales</th>\n",
       "      <th>req</th>\n",
       "      <th>expreq</th>\n",
       "      <th>comreq</th>\n",
       "      <th>educreq</th>\n",
       "      <th>compreq</th>\n",
       "      <th>orgreq</th>\n",
       "      <th>manuf</th>\n",
       "      <th>transcom</th>\n",
       "      <th>bankreal</th>\n",
       "      <th>trade</th>\n",
       "      <th>busservice</th>\n",
       "      <th>othservice</th>\n",
       "      <th>missind</th>\n",
       "      <th>ownership</th>\n",
       "    </tr>\n",
       "  </thead>\n",
       "  <tbody>\n",
       "    <tr>\n",
       "      <th>1654</th>\n",
       "      <td>19</td>\n",
       "      <td>19</td>\n",
       "      <td>4</td>\n",
       "      <td>4</td>\n",
       "      <td>2</td>\n",
       "      <td>0</td>\n",
       "      <td>1</td>\n",
       "      <td>1</td>\n",
       "      <td>0</td>\n",
       "      <td>267</td>\n",
       "      <td>4</td>\n",
       "      <td>1</td>\n",
       "      <td>1</td>\n",
       "      <td>1</td>\n",
       "      <td>0</td>\n",
       "      <td>Allison</td>\n",
       "      <td>f</td>\n",
       "      <td>w</td>\n",
       "      <td>1.0</td>\n",
       "      <td>0.0</td>\n",
       "      <td>0.0</td>\n",
       "      <td>b</td>\n",
       "      <td>s</td>\n",
       "      <td>51.0</td>\n",
       "      <td>0.022392</td>\n",
       "      <td>0.221549</td>\n",
       "      <td>9.614338</td>\n",
       "      <td>0.356164</td>\n",
       "      <td>0.187566</td>\n",
       "      <td>9.520982</td>\n",
       "      <td>1.0</td>\n",
       "      <td></td>\n",
       "      <td></td>\n",
       "      <td>0.0</td>\n",
       "      <td>NaN</td>\n",
       "      <td>NaN</td>\n",
       "      <td>NaN</td>\n",
       "      <td>NaN</td>\n",
       "      <td>NaN</td>\n",
       "      <td>0.00315</td>\n",
       "      <td>0.983229</td>\n",
       "      <td>10.873944</td>\n",
       "      <td>0.054705</td>\n",
       "      <td>0.309197</td>\n",
       "      <td>9.955795</td>\n",
       "      <td>0.0</td>\n",
       "      <td>0.0</td>\n",
       "      <td>0.0</td>\n",
       "      <td>0.0</td>\n",
       "      <td>0.0</td>\n",
       "      <td>1.0</td>\n",
       "      <td>1.0</td>\n",
       "      <td>0.0</td>\n",
       "      <td>1.0</td>\n",
       "      <td>0.0</td>\n",
       "      <td>1.0</td>\n",
       "      <td>0.0</td>\n",
       "      <td>0.0</td>\n",
       "      <td>0.0</td>\n",
       "      <td>0.0</td>\n",
       "      <td>0.0</td>\n",
       "      <td>0.0</td>\n",
       "      <td>0.0</td>\n",
       "      <td>1.0</td>\n",
       "      <td></td>\n",
       "    </tr>\n",
       "    <tr>\n",
       "      <th>1101</th>\n",
       "      <td>b</td>\n",
       "      <td>15</td>\n",
       "      <td>4</td>\n",
       "      <td>4</td>\n",
       "      <td>6</td>\n",
       "      <td>0</td>\n",
       "      <td>1</td>\n",
       "      <td>0</td>\n",
       "      <td>1</td>\n",
       "      <td>195</td>\n",
       "      <td>1</td>\n",
       "      <td>1</td>\n",
       "      <td>1</td>\n",
       "      <td>1</td>\n",
       "      <td>1</td>\n",
       "      <td>Tanisha</td>\n",
       "      <td>f</td>\n",
       "      <td>b</td>\n",
       "      <td>1.0</td>\n",
       "      <td>0.0</td>\n",
       "      <td>0.0</td>\n",
       "      <td>c</td>\n",
       "      <td>a</td>\n",
       "      <td>626.0</td>\n",
       "      <td>0.003419</td>\n",
       "      <td>0.904997</td>\n",
       "      <td>10.310918</td>\n",
       "      <td>0.213802</td>\n",
       "      <td>0.142228</td>\n",
       "      <td>9.557964</td>\n",
       "      <td>1.0</td>\n",
       "      <td>some</td>\n",
       "      <td></td>\n",
       "      <td>0.0</td>\n",
       "      <td>NaN</td>\n",
       "      <td>NaN</td>\n",
       "      <td>NaN</td>\n",
       "      <td>NaN</td>\n",
       "      <td>NaN</td>\n",
       "      <td>NaN</td>\n",
       "      <td>NaN</td>\n",
       "      <td>NaN</td>\n",
       "      <td>NaN</td>\n",
       "      <td>NaN</td>\n",
       "      <td>NaN</td>\n",
       "      <td>0.0</td>\n",
       "      <td>0.0</td>\n",
       "      <td>1.0</td>\n",
       "      <td>0.0</td>\n",
       "      <td>0.0</td>\n",
       "      <td>0.0</td>\n",
       "      <td>1.0</td>\n",
       "      <td>1.0</td>\n",
       "      <td>0.0</td>\n",
       "      <td>0.0</td>\n",
       "      <td>1.0</td>\n",
       "      <td>0.0</td>\n",
       "      <td>0.0</td>\n",
       "      <td>0.0</td>\n",
       "      <td>0.0</td>\n",
       "      <td>0.0</td>\n",
       "      <td>0.0</td>\n",
       "      <td>1.0</td>\n",
       "      <td>0.0</td>\n",
       "      <td></td>\n",
       "    </tr>\n",
       "    <tr>\n",
       "      <th>1149</th>\n",
       "      <td>295</td>\n",
       "      <td>15</td>\n",
       "      <td>2</td>\n",
       "      <td>3</td>\n",
       "      <td>8</td>\n",
       "      <td>1</td>\n",
       "      <td>0</td>\n",
       "      <td>0</td>\n",
       "      <td>1</td>\n",
       "      <td>263</td>\n",
       "      <td>4</td>\n",
       "      <td>0</td>\n",
       "      <td>0</td>\n",
       "      <td>0</td>\n",
       "      <td>0</td>\n",
       "      <td>Latoya</td>\n",
       "      <td>f</td>\n",
       "      <td>b</td>\n",
       "      <td>0.0</td>\n",
       "      <td>1.0</td>\n",
       "      <td>0.0</td>\n",
       "      <td>b</td>\n",
       "      <td>s</td>\n",
       "      <td>137.0</td>\n",
       "      <td>0.009224</td>\n",
       "      <td>0.965915</td>\n",
       "      <td>10.144078</td>\n",
       "      <td>0.177731</td>\n",
       "      <td>0.145395</td>\n",
       "      <td>9.593764</td>\n",
       "      <td>0.0</td>\n",
       "      <td>5</td>\n",
       "      <td></td>\n",
       "      <td>1.0</td>\n",
       "      <td>22.500000</td>\n",
       "      <td>147.0</td>\n",
       "      <td>NaN</td>\n",
       "      <td>NaN</td>\n",
       "      <td>0.0</td>\n",
       "      <td>NaN</td>\n",
       "      <td>NaN</td>\n",
       "      <td>NaN</td>\n",
       "      <td>NaN</td>\n",
       "      <td>NaN</td>\n",
       "      <td>NaN</td>\n",
       "      <td>0.0</td>\n",
       "      <td>0.0</td>\n",
       "      <td>0.0</td>\n",
       "      <td>0.0</td>\n",
       "      <td>1.0</td>\n",
       "      <td>0.0</td>\n",
       "      <td>1.0</td>\n",
       "      <td>1.0</td>\n",
       "      <td>0.0</td>\n",
       "      <td>0.0</td>\n",
       "      <td>0.0</td>\n",
       "      <td>0.0</td>\n",
       "      <td>0.0</td>\n",
       "      <td>0.0</td>\n",
       "      <td>0.0</td>\n",
       "      <td>0.0</td>\n",
       "      <td>1.0</td>\n",
       "      <td>0.0</td>\n",
       "      <td>0.0</td>\n",
       "      <td>Private</td>\n",
       "    </tr>\n",
       "    <tr>\n",
       "      <th>2763</th>\n",
       "      <td>b</td>\n",
       "      <td>3</td>\n",
       "      <td>2</td>\n",
       "      <td>2</td>\n",
       "      <td>6</td>\n",
       "      <td>0</td>\n",
       "      <td>0</td>\n",
       "      <td>0</td>\n",
       "      <td>0</td>\n",
       "      <td>189</td>\n",
       "      <td>1</td>\n",
       "      <td>0</td>\n",
       "      <td>0</td>\n",
       "      <td>1</td>\n",
       "      <td>0</td>\n",
       "      <td>Latoya</td>\n",
       "      <td>f</td>\n",
       "      <td>b</td>\n",
       "      <td>0.0</td>\n",
       "      <td>1.0</td>\n",
       "      <td>0.0</td>\n",
       "      <td>c</td>\n",
       "      <td>a</td>\n",
       "      <td>941.0</td>\n",
       "      <td>0.954597</td>\n",
       "      <td>0.042804</td>\n",
       "      <td>10.276773</td>\n",
       "      <td>0.197444</td>\n",
       "      <td>0.109380</td>\n",
       "      <td>9.304468</td>\n",
       "      <td>0.0</td>\n",
       "      <td></td>\n",
       "      <td></td>\n",
       "      <td>0.0</td>\n",
       "      <td>46.400002</td>\n",
       "      <td>362.0</td>\n",
       "      <td>NaN</td>\n",
       "      <td>NaN</td>\n",
       "      <td>1.0</td>\n",
       "      <td>NaN</td>\n",
       "      <td>NaN</td>\n",
       "      <td>NaN</td>\n",
       "      <td>NaN</td>\n",
       "      <td>NaN</td>\n",
       "      <td>NaN</td>\n",
       "      <td>0.0</td>\n",
       "      <td>0.0</td>\n",
       "      <td>1.0</td>\n",
       "      <td>0.0</td>\n",
       "      <td>0.0</td>\n",
       "      <td>0.0</td>\n",
       "      <td>1.0</td>\n",
       "      <td>0.0</td>\n",
       "      <td>0.0</td>\n",
       "      <td>0.0</td>\n",
       "      <td>1.0</td>\n",
       "      <td>0.0</td>\n",
       "      <td>0.0</td>\n",
       "      <td>0.0</td>\n",
       "      <td>1.0</td>\n",
       "      <td>0.0</td>\n",
       "      <td>0.0</td>\n",
       "      <td>0.0</td>\n",
       "      <td>0.0</td>\n",
       "      <td>Private</td>\n",
       "    </tr>\n",
       "    <tr>\n",
       "      <th>3145</th>\n",
       "      <td>103</td>\n",
       "      <td>33</td>\n",
       "      <td>4</td>\n",
       "      <td>4</td>\n",
       "      <td>14</td>\n",
       "      <td>0</td>\n",
       "      <td>1</td>\n",
       "      <td>0</td>\n",
       "      <td>0</td>\n",
       "      <td>13</td>\n",
       "      <td>1</td>\n",
       "      <td>1</td>\n",
       "      <td>0</td>\n",
       "      <td>1</td>\n",
       "      <td>1</td>\n",
       "      <td>Latoya</td>\n",
       "      <td>f</td>\n",
       "      <td>b</td>\n",
       "      <td>1.0</td>\n",
       "      <td>0.0</td>\n",
       "      <td>0.0</td>\n",
       "      <td>b</td>\n",
       "      <td>s</td>\n",
       "      <td>4.0</td>\n",
       "      <td>0.586862</td>\n",
       "      <td>0.337866</td>\n",
       "      <td>10.291060</td>\n",
       "      <td>0.180473</td>\n",
       "      <td>0.132419</td>\n",
       "      <td>9.400630</td>\n",
       "      <td>1.0</td>\n",
       "      <td>some</td>\n",
       "      <td></td>\n",
       "      <td>0.0</td>\n",
       "      <td>37.500000</td>\n",
       "      <td>150.0</td>\n",
       "      <td>NaN</td>\n",
       "      <td>NaN</td>\n",
       "      <td>0.0</td>\n",
       "      <td>NaN</td>\n",
       "      <td>NaN</td>\n",
       "      <td>NaN</td>\n",
       "      <td>NaN</td>\n",
       "      <td>NaN</td>\n",
       "      <td>NaN</td>\n",
       "      <td>1.0</td>\n",
       "      <td>0.0</td>\n",
       "      <td>0.0</td>\n",
       "      <td>0.0</td>\n",
       "      <td>0.0</td>\n",
       "      <td>0.0</td>\n",
       "      <td>1.0</td>\n",
       "      <td>1.0</td>\n",
       "      <td>0.0</td>\n",
       "      <td>0.0</td>\n",
       "      <td>0.0</td>\n",
       "      <td>0.0</td>\n",
       "      <td>0.0</td>\n",
       "      <td>0.0</td>\n",
       "      <td>0.0</td>\n",
       "      <td>1.0</td>\n",
       "      <td>0.0</td>\n",
       "      <td>0.0</td>\n",
       "      <td>0.0</td>\n",
       "      <td>Private</td>\n",
       "    </tr>\n",
       "  </tbody>\n",
       "</table>\n",
       "</div>"
      ],
      "text/plain": [
       "       id  ad  education  ofjobs  yearsexp  honors  volunteer  military  \\\n",
       "1654   19  19          4       4         2       0          1         1   \n",
       "1101    b  15          4       4         6       0          1         0   \n",
       "1149  295  15          2       3         8       1          0         0   \n",
       "2763    b   3          2       2         6       0          0         0   \n",
       "3145  103  33          4       4        14       0          1         0   \n",
       "\n",
       "      empholes  occupspecific  occupbroad  workinschool  email  \\\n",
       "1654         0            267           4             1      1   \n",
       "1101         1            195           1             1      1   \n",
       "1149         1            263           4             0      0   \n",
       "2763         0            189           1             0      0   \n",
       "3145         0             13           1             1      0   \n",
       "\n",
       "      computerskills  specialskills firstname sex race    h    l  call city  \\\n",
       "1654               1              0   Allison   f    w  1.0  0.0   0.0    b   \n",
       "1101               1              1   Tanisha   f    b  1.0  0.0   0.0    c   \n",
       "1149               0              0    Latoya   f    b  0.0  1.0   0.0    b   \n",
       "2763               1              0    Latoya   f    b  0.0  1.0   0.0    c   \n",
       "3145               1              1    Latoya   f    b  1.0  0.0   0.0    b   \n",
       "\n",
       "     kind   adid  fracblack  fracwhite  lmedhhinc  fracdropout  fraccolp  \\\n",
       "1654    s   51.0   0.022392   0.221549   9.614338     0.356164  0.187566   \n",
       "1101    a  626.0   0.003419   0.904997  10.310918     0.213802  0.142228   \n",
       "1149    s  137.0   0.009224   0.965915  10.144078     0.177731  0.145395   \n",
       "2763    a  941.0   0.954597   0.042804  10.276773     0.197444  0.109380   \n",
       "3145    s    4.0   0.586862   0.337866  10.291060     0.180473  0.132419   \n",
       "\n",
       "          linc  col expminreq schoolreq  eoe  parent_sales  parent_emp  \\\n",
       "1654  9.520982  1.0                      0.0           NaN         NaN   \n",
       "1101  9.557964  1.0      some            0.0           NaN         NaN   \n",
       "1149  9.593764  0.0         5            1.0     22.500000       147.0   \n",
       "2763  9.304468  0.0                      0.0     46.400002       362.0   \n",
       "3145  9.400630  1.0      some            0.0     37.500000       150.0   \n",
       "\n",
       "      branch_sales  branch_emp  fed  fracblack_empzip  fracwhite_empzip  \\\n",
       "1654           NaN         NaN  NaN           0.00315          0.983229   \n",
       "1101           NaN         NaN  NaN               NaN               NaN   \n",
       "1149           NaN         NaN  0.0               NaN               NaN   \n",
       "2763           NaN         NaN  1.0               NaN               NaN   \n",
       "3145           NaN         NaN  0.0               NaN               NaN   \n",
       "\n",
       "      lmedhhinc_empzip  fracdropout_empzip  fraccolp_empzip  linc_empzip  \\\n",
       "1654         10.873944            0.054705         0.309197     9.955795   \n",
       "1101               NaN                 NaN              NaN          NaN   \n",
       "1149               NaN                 NaN              NaN          NaN   \n",
       "2763               NaN                 NaN              NaN          NaN   \n",
       "3145               NaN                 NaN              NaN          NaN   \n",
       "\n",
       "      manager  supervisor  secretary  offsupport  salesrep  retailsales  req  \\\n",
       "1654      0.0         0.0        0.0         0.0       0.0          1.0  1.0   \n",
       "1101      0.0         0.0        1.0         0.0       0.0          0.0  1.0   \n",
       "1149      0.0         0.0        0.0         0.0       1.0          0.0  1.0   \n",
       "2763      0.0         0.0        1.0         0.0       0.0          0.0  1.0   \n",
       "3145      1.0         0.0        0.0         0.0       0.0          0.0  1.0   \n",
       "\n",
       "      expreq  comreq  educreq  compreq  orgreq  manuf  transcom  bankreal  \\\n",
       "1654     0.0     1.0      0.0      1.0     0.0    0.0       0.0       0.0   \n",
       "1101     1.0     0.0      0.0      1.0     0.0    0.0       0.0       0.0   \n",
       "1149     1.0     0.0      0.0      0.0     0.0    0.0       0.0       0.0   \n",
       "2763     0.0     0.0      0.0      1.0     0.0    0.0       0.0       1.0   \n",
       "3145     1.0     0.0      0.0      0.0     0.0    0.0       0.0       0.0   \n",
       "\n",
       "      trade  busservice  othservice  missind ownership  \n",
       "1654    0.0         0.0         0.0      1.0            \n",
       "1101    0.0         0.0         1.0      0.0            \n",
       "1149    0.0         1.0         0.0      0.0   Private  \n",
       "2763    0.0         0.0         0.0      0.0   Private  \n",
       "3145    1.0         0.0         0.0      0.0   Private  "
      ]
     },
     "execution_count": 3,
     "metadata": {},
     "output_type": "execute_result"
    }
   ],
   "source": [
    "data.sample(5)"
   ]
  },
  {
   "cell_type": "code",
   "execution_count": 4,
   "metadata": {
    "collapsed": false
   },
   "outputs": [
    {
     "name": "stdout",
     "output_type": "stream",
     "text": [
      "<class 'pandas.core.frame.DataFrame'>\n",
      "Int64Index: 4870 entries, 0 to 4869\n",
      "Data columns (total 65 columns):\n",
      "id                    4870 non-null object\n",
      "ad                    4870 non-null object\n",
      "education             4870 non-null int8\n",
      "ofjobs                4870 non-null int8\n",
      "yearsexp              4870 non-null int8\n",
      "honors                4870 non-null int8\n",
      "volunteer             4870 non-null int8\n",
      "military              4870 non-null int8\n",
      "empholes              4870 non-null int8\n",
      "occupspecific         4870 non-null int16\n",
      "occupbroad            4870 non-null int8\n",
      "workinschool          4870 non-null int8\n",
      "email                 4870 non-null int8\n",
      "computerskills        4870 non-null int8\n",
      "specialskills         4870 non-null int8\n",
      "firstname             4870 non-null object\n",
      "sex                   4870 non-null object\n",
      "race                  4870 non-null object\n",
      "h                     4870 non-null float32\n",
      "l                     4870 non-null float32\n",
      "call                  4870 non-null float32\n",
      "city                  4870 non-null object\n",
      "kind                  4870 non-null object\n",
      "adid                  4870 non-null float32\n",
      "fracblack             4784 non-null float32\n",
      "fracwhite             4784 non-null float32\n",
      "lmedhhinc             4784 non-null float32\n",
      "fracdropout           4784 non-null float32\n",
      "fraccolp              4784 non-null float32\n",
      "linc                  4784 non-null float32\n",
      "col                   4870 non-null float32\n",
      "expminreq             4870 non-null object\n",
      "schoolreq             4870 non-null object\n",
      "eoe                   4870 non-null float32\n",
      "parent_sales          1672 non-null float32\n",
      "parent_emp            1722 non-null float32\n",
      "branch_sales          608 non-null float32\n",
      "branch_emp            658 non-null float32\n",
      "fed                   3102 non-null float32\n",
      "fracblack_empzip      1918 non-null float32\n",
      "fracwhite_empzip      1918 non-null float32\n",
      "lmedhhinc_empzip      1908 non-null float32\n",
      "fracdropout_empzip    1918 non-null float32\n",
      "fraccolp_empzip       1918 non-null float32\n",
      "linc_empzip           1918 non-null float32\n",
      "manager               4870 non-null float32\n",
      "supervisor            4870 non-null float32\n",
      "secretary             4870 non-null float32\n",
      "offsupport            4870 non-null float32\n",
      "salesrep              4870 non-null float32\n",
      "retailsales           4870 non-null float32\n",
      "req                   4870 non-null float32\n",
      "expreq                4870 non-null float32\n",
      "comreq                4870 non-null float32\n",
      "educreq               4870 non-null float32\n",
      "compreq               4870 non-null float32\n",
      "orgreq                4870 non-null float32\n",
      "manuf                 4870 non-null float32\n",
      "transcom              4870 non-null float32\n",
      "bankreal              4870 non-null float32\n",
      "trade                 4870 non-null float32\n",
      "busservice            4870 non-null float32\n",
      "othservice            4870 non-null float32\n",
      "missind               4870 non-null float32\n",
      "ownership             4870 non-null object\n",
      "dtypes: float32(42), int16(1), int8(12), object(10)\n",
      "memory usage: 1.3+ MB\n"
     ]
    }
   ],
   "source": [
    "data.info()"
   ]
  },
  {
   "cell_type": "markdown",
   "metadata": {},
   "source": [
    "There are lots of columns! If the info() method is fully accurate, it seems the data is mostly complete as well. The exercise only asks us to look at the **race** and **call** columns. So we can do that. First, let's drop the other columns and create a new dataframe, df, that we will use for the rest of the exercise."
   ]
  },
  {
   "cell_type": "code",
   "execution_count": 5,
   "metadata": {
    "collapsed": true
   },
   "outputs": [],
   "source": [
    "df = data[['race','call']]"
   ]
  },
  {
   "cell_type": "markdown",
   "metadata": {},
   "source": [
    "We know there are 4870 rows, so let's figure out how many of each race are present. Is it even or unbalanced?"
   ]
  },
  {
   "cell_type": "code",
   "execution_count": 6,
   "metadata": {
    "collapsed": false
   },
   "outputs": [
    {
     "data": {
      "text/plain": [
       "b    2435\n",
       "w    2435\n",
       "Name: race, dtype: int64"
      ]
     },
     "execution_count": 6,
     "metadata": {},
     "output_type": "execute_result"
    }
   ],
   "source": [
    "df.race.value_counts()"
   ]
  },
  {
   "cell_type": "markdown",
   "metadata": {},
   "source": [
    "Good, both categories have the same size. Next we can figure out how many callbacks were received, per race. "
   ]
  },
  {
   "cell_type": "code",
   "execution_count": 7,
   "metadata": {
    "collapsed": false
   },
   "outputs": [
    {
     "data": {
      "text/html": [
       "<div>\n",
       "<table border=\"1\" class=\"dataframe\">\n",
       "  <thead>\n",
       "    <tr style=\"text-align: right;\">\n",
       "      <th>call</th>\n",
       "      <th>0.0</th>\n",
       "      <th>1.0</th>\n",
       "    </tr>\n",
       "    <tr>\n",
       "      <th>race</th>\n",
       "      <th></th>\n",
       "      <th></th>\n",
       "    </tr>\n",
       "  </thead>\n",
       "  <tbody>\n",
       "    <tr>\n",
       "      <th>b</th>\n",
       "      <td>2278</td>\n",
       "      <td>157</td>\n",
       "    </tr>\n",
       "    <tr>\n",
       "      <th>w</th>\n",
       "      <td>2200</td>\n",
       "      <td>235</td>\n",
       "    </tr>\n",
       "  </tbody>\n",
       "</table>\n",
       "</div>"
      ],
      "text/plain": [
       "call   0.0  1.0\n",
       "race           \n",
       "b     2278  157\n",
       "w     2200  235"
      ]
     },
     "execution_count": 7,
     "metadata": {},
     "output_type": "execute_result"
    }
   ],
   "source": [
    "df.groupby(['race','call']).size().unstack()"
   ]
  },
  {
   "cell_type": "markdown",
   "metadata": {},
   "source": [
    "So we can see that the number of callbacks is not the same, even though the initial sizes were the same. So we want to quantify whether this difference is statistical significant. On to the questions!"
   ]
  },
  {
   "cell_type": "markdown",
   "metadata": {},
   "source": [
    "### Question 1: What test is appropriate for this problem? Does CLT apply?"
   ]
  },
  {
   "cell_type": "markdown",
   "metadata": {},
   "source": [
    "The data is independent and identically distributed, as defined in the problem statement. Also there is much more data than is the rule of thumb (30). Because of this, CLT does apply. Given that we want to compare two sample proportions (and not means) with known variances the best test is the *z*-test. This will be a two-sided test. \n",
    "\n",
    "### Answer 1: CLT does apply in this scenario and a two-sided *z*-test is appropriate. "
   ]
  },
  {
   "cell_type": "markdown",
   "metadata": {},
   "source": [
    "### Question 2: What are the null and alternate hypotheses?"
   ]
  },
  {
   "cell_type": "markdown",
   "metadata": {},
   "source": [
    "### Answer 2: The null hypothesis is that the difference between the rate (or proportion) of callbacks depending on race is zero. The alternate hypothesis then presumes that the difference is non-zero. "
   ]
  },
  {
   "cell_type": "markdown",
   "metadata": {},
   "source": [
    "### Question 3: Compute margin of error, confidence interval, and p-value."
   ]
  },
  {
   "cell_type": "markdown",
   "metadata": {},
   "source": [
    "Here we want to calculate the relevant statistics to answer the question. Before that, let's remind ourselves what the rates of callbacks are for the two race categories."
   ]
  },
  {
   "cell_type": "code",
   "execution_count": 8,
   "metadata": {
    "collapsed": false
   },
   "outputs": [
    {
     "data": {
      "text/html": [
       "<div>\n",
       "<table border=\"1\" class=\"dataframe\">\n",
       "  <thead>\n",
       "    <tr style=\"text-align: right;\">\n",
       "      <th>call</th>\n",
       "      <th>0.0</th>\n",
       "      <th>1.0</th>\n",
       "    </tr>\n",
       "    <tr>\n",
       "      <th>race</th>\n",
       "      <th></th>\n",
       "      <th></th>\n",
       "    </tr>\n",
       "  </thead>\n",
       "  <tbody>\n",
       "    <tr>\n",
       "      <th>b</th>\n",
       "      <td>0.935524</td>\n",
       "      <td>0.064476</td>\n",
       "    </tr>\n",
       "    <tr>\n",
       "      <th>w</th>\n",
       "      <td>0.903491</td>\n",
       "      <td>0.096509</td>\n",
       "    </tr>\n",
       "  </tbody>\n",
       "</table>\n",
       "</div>"
      ],
      "text/plain": [
       "call       0.0       1.0\n",
       "race                    \n",
       "b     0.935524  0.064476\n",
       "w     0.903491  0.096509"
      ]
     },
     "execution_count": 8,
     "metadata": {},
     "output_type": "execute_result"
    }
   ],
   "source": [
    "df.groupby(['race','call']).size().apply(lambda x: x/2435.).unstack()"
   ]
  },
  {
   "cell_type": "markdown",
   "metadata": {},
   "source": [
    "Now, we first must use both proportions and determine a pooled, or averaged, proportion. From that we can calculate the standard error. Using that and the difference in proportions (which is the goal of the *z*-test), we can calculate the test statistic. We are not given a confidence level (CL), but we can assume 95% as that is pretty standard. We can use this CL to determine the related *z*-score (1.96 in this case) and multiply by the standard error to get the margin of error. Then we can calculate the confidence interval (CI) and p-value from previous calculations. The full calculations and results are given below."
   ]
  },
  {
   "cell_type": "code",
   "execution_count": 9,
   "metadata": {
    "collapsed": false
   },
   "outputs": [
    {
     "name": "stdout",
     "output_type": "stream",
     "text": [
      "  Calculation                    | Value\n",
      "============================================================\n",
      "  Callback proportion for W      | 0.09650924\n",
      "  Callback proportion for B      | 0.06447639\n",
      "  Difference in proportions      | 0.03203285\n",
      "  Pooled proportions             | 0.08049281\n",
      "  Standard Error                 | 0.00779689\n",
      "  z-test statistic               | 4.10841215\n",
      "* Margin of Error                | 0.01528163\n",
      "* 95% Confidence Interval        | 0.01675122 to 0.04731449\n",
      "* z-test p-value                 | 0.00003984\n"
     ]
    }
   ],
   "source": [
    "#Calculate the number of callbacks for each race\n",
    "num_call_w = sum(df[df.race=='w'].call)\n",
    "num_call_b = sum(df[df.race=='b'].call)\n",
    "\n",
    "#Calculate the total rows for each race\n",
    "num_tot_w = len(df[df.race=='w'].call)\n",
    "num_tot_b = len(df[df.race=='b'].call)\n",
    "\n",
    "#Calculate the proportion of callback for each race\n",
    "prop_w = num_call_w / num_tot_w\n",
    "prop_b = num_call_b / num_tot_b\n",
    "\n",
    "#Calculate the pooled proportion\n",
    "prop_pool = (prop_w * num_tot_w + prop_b * num_tot_b) / (num_tot_w + num_tot_b)\n",
    "\n",
    "#Calculate the difference in proportions\n",
    "prop_diff = np.abs(prop_w-prop_b)\n",
    "\n",
    "#Calculate the standard error between proportions\n",
    "std_error = np.sqrt(prop_pool * (1-prop_pool) * ((1./num_tot_w) + (1./num_tot_b)))\n",
    "\n",
    "#Calculate the z-score for this exercise\n",
    "z = prop_diff / std_error\n",
    "\n",
    "#Assume a confidence level of 0.95\n",
    "CL = 0.95\n",
    "\n",
    "#Calculate the margin of error\n",
    "margin_error = stats.norm.ppf(1-((1-CL)/2)) * std_error\n",
    "\n",
    "#Calculate the 95% CI from the difference of proportions\n",
    "ci_lower, ci_upper = stats.norm.interval(CL, loc=prop_diff, scale=std_error)\n",
    "\n",
    "#Calculate the p-value \n",
    "p_value = (1-stats.norm.cdf(z))*2\n",
    "\n",
    "print(\"  %-30s | %s\" % ('Calculation', 'Value'))\n",
    "print(60 * '=')\n",
    "print(\"  %-30s | %.8f\" % ('Callback proportion for W', prop_w))\n",
    "print(\"  %-30s | %.8f\" % ('Callback proportion for B', prop_b))\n",
    "print(\"  %-30s | %.8f\" % ('Difference in proportions', prop_diff))\n",
    "print(\"  %-30s | %.8f\" % ('Pooled proportions', prop_pool))\n",
    "print(\"  %-30s | %.8f\" % ('Standard Error', std_error))\n",
    "print(\"  %-30s | %.8f\" % ('z-test statistic', z))\n",
    "print(\"* %-30s | %.8f\" % ('Margin of Error', margin_error))\n",
    "print(\"* %-30s | %.8f to %.8f\" % ('%i%% Confidence Interval' % (CL*100), ci_lower, ci_upper))\n",
    "print(\"* %-30s | %.8f\" % ('z-test p-value', p_value))"
   ]
  },
  {
   "cell_type": "markdown",
   "metadata": {},
   "source": [
    "Note the table above gives the results of the calculations we needed for this question. The last three rows, marked by an asterisk, are the quantities needed for this question. \n",
    "\n",
    "### Answer 3: See table above. "
   ]
  },
  {
   "cell_type": "markdown",
   "metadata": {},
   "source": [
    "### Question 4: Write a story describing the statistical significance in the context or the original problem."
   ]
  },
  {
   "cell_type": "markdown",
   "metadata": {},
   "source": [
    "### Answer 4: The p-value from the *z*-test is very small. The CI also supports this p-value since it does not include zero (remember its calculated for the difference in proportions). This means the difference between the two proportions is not zero and we can reject the null hypothesis. In a vacuum, this analysis would indicate that indeed there is a bias in who gets a callback for an employment application. "
   ]
  },
  {
   "cell_type": "markdown",
   "metadata": {},
   "source": [
    "### Question 5: Does your analysis mean that race/name is the most important factor in callback success? Why or why not? If not, how would you amend your analysis?"
   ]
  },
  {
   "cell_type": "markdown",
   "metadata": {},
   "source": [
    "### Answer 5: There are other factors that are likely to play in this scenario. We do not know how much name (which is used as a proxy for race, another complication) actually affects employment applications. Many of these other factors are likely present in the given dataset, as they include info on sex, education, and background. Without looking into these other features of the dataset it would be difficult to say that race (or name) is the most important factor in callback success. A better analysis would use regression/machine learning to map and learn the relationships between all the relavant factors.  "
   ]
  },
  {
   "cell_type": "markdown",
   "metadata": {
    "collapsed": true
   },
   "source": [
    "-------------------"
   ]
  },
  {
   "cell_type": "markdown",
   "metadata": {},
   "source": [
    "Et fin."
   ]
  },
  {
   "cell_type": "code",
   "execution_count": null,
   "metadata": {
    "collapsed": true
   },
   "outputs": [],
   "source": []
  }
 ],
 "metadata": {
  "kernelspec": {
   "display_name": "Python 2",
   "language": "python",
   "name": "python2"
  },
  "language_info": {
   "codemirror_mode": {
    "name": "ipython",
    "version": 2
   },
   "file_extension": ".py",
   "mimetype": "text/x-python",
   "name": "python",
   "nbconvert_exporter": "python",
   "pygments_lexer": "ipython2",
   "version": "2.7.13"
  }
 },
 "nbformat": 4,
 "nbformat_minor": 0
}
